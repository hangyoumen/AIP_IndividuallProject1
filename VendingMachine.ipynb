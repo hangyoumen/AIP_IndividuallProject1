{
 "cells": [
  {
   "cell_type": "markdown",
   "metadata": {},
   "source": [
    "# Individual Project"
   ]
  },
  {
   "cell_type": "markdown",
   "metadata": {},
   "source": [
    "## Vending Machine"
   ]
  },
  {
   "cell_type": "markdown",
   "metadata": {},
   "source": [
    "**How to use this notebook and complete the project?**\n",
    "\n",
    "1. You need to answer all required questions by answering in the markdown cell.\n",
    "2. Read the instruction and fill in the #todo sections.\n",
    "3. Run all the cells to store the results of each codes.\n",
    "4. Save this notebook by clicking on `File`, then click `Download as`, choose `HTML`.\n",
    "5. Push this notebook to your GitHub reporitory by creating a new repository, named `AIP_IndividualProject`. Set this repository as `Private` until the day of your submission, which is on *29th June 2019, 1.30 PM*."
   ]
  },
  {
   "cell_type": "markdown",
   "metadata": {},
   "source": [
    "**Introduction**\n",
    "\n",
    "Japan is a country full of vending machines. Everyone use vending machine at least once a week to quickly by a drink and quench their thirst. Imagine you are going to operate a vending machine. There several drinks that user can choose to buy from a vending machine."
   ]
  },
  {
   "cell_type": "markdown",
   "metadata": {},
   "source": [
    "**Question 1**\n",
    "\n",
    "Does your country has vending machines everywhere? If has, do people usually use them? What kind of items are sold in a vending machine?"
   ]
  },
  {
   "cell_type": "markdown",
   "metadata": {},
   "source": [
    "**Answer**:have.drinks and foods.\n",
    "\n"
   ]
  },
  {
   "cell_type": "markdown",
   "metadata": {},
   "source": [
    "**Question 2**\n",
    "\n",
    "Imagine you are going to program a vending machine that sell 5 types of drinks, which are:\n",
    "\n",
    "1. Orange Juice - 120 Yen\n",
    "2. Mineral Water - 100 Yen\n",
    "3. Coke - 120 Yen\n",
    "4. Tea - 120 Yen\n",
    "5. Green Tea - 110 Yen\n",
    "\n",
    "Create a flowchart to describe how a customer would like to buy a drink from this vending machine.\n",
    "\n",
    "You may draw a flowchart by using *powerpoint*, then save it as a picture in `.jpg` or `.png`. Then, use this command to the *Answer* column below.\n",
    "`<img src=_____.jpg>`"
   ]
  },
  {
   "cell_type": "markdown",
   "metadata": {},
   "source": [
    "**Answer**:<img src=Capture.jpg>\n",
    "\n"
   ]
  },
  {
   "cell_type": "markdown",
   "metadata": {},
   "source": [
    "**Step 1**\n",
    "\n",
    "#TODO\n",
    "Intializing the necessary items sold and get an input to choose drinks"
   ]
  },
  {
   "cell_type": "code",
   "execution_count": 4,
   "metadata": {},
   "outputs": [
    {
     "name": "stdout",
     "output_type": "stream",
     "text": [
      "Choose your drinks (A for Orange Juice, B for Mineral Water, C for Coke,  D for Tea, E for Green Tea): B\n"
     ]
    }
   ],
   "source": [
    "#TODo Build a ditcionary that contains drinks and its value in japanese yen. The drinks' name should be in string and drink's price should be in integer data type.\n",
    "drinks = {\"A\":120,\"B\":100,\"C\":120,\"D\":120,\"E\":110}\n",
    "choice = input(\"Choose your drinks (A for Orange Juice, B for Mineral Water, C for Coke,  D for Tea, E for Green Tea): \")\n"
   ]
  },
  {
   "cell_type": "markdown",
   "metadata": {},
   "source": [
    "**Step 2**\n",
    "\n",
    "#TODO\n",
    "\n",
    "Build a function of `input_money` that return and print the amount of balance needed, balance will be given, and give the selected drink to the customer."
   ]
  },
  {
   "cell_type": "code",
   "execution_count": 5,
   "metadata": {},
   "outputs": [],
   "source": [
    "def input_money(value):\n",
    "    money = input(\"Please insert money: \")\n",
    "    money = int(money)\n",
    "    if money == value:\n",
    "        print(\"当たり\")\n",
    "    \n",
    "    elif money < value:\n",
    "        print(\"値段{}円飲み物を買った、もう{}円を支払い、また{}円をかかる\".format(value,money,value-money))\n",
    "    else:\n",
    "        print(\"値段{}円飲み物を買った、もう{}円を支払い、お釣りの{}円\".format(value,money,money-value))\n",
    "        "
   ]
  },
  {
   "cell_type": "markdown",
   "metadata": {},
   "source": [
    "**Step 3**\n",
    "\n",
    "#TODO\n",
    "Write an else-if statement to get the drink's value from the chosen drink."
   ]
  },
  {
   "cell_type": "code",
   "execution_count": 6,
   "metadata": {},
   "outputs": [
    {
     "name": "stdout",
     "output_type": "stream",
     "text": [
      "Please insert money: 500\n",
      "値段100円飲み物を買った、もう500円を支払いで、お釣りの400円\n"
     ]
    }
   ],
   "source": [
    "if choice == \"A\":\n",
    "    chosen_drink = drinks[choice]\n",
    "elif choice==\"B\":\n",
    "        chosen_drink = drinks[choice]\n",
    "elif choice==\"C\":\n",
    "        chosen_drink = drinks[choice]\n",
    "elif choice==\"D\":\n",
    "        chosen_drink = drinks[choice]\n",
    "elif choice==\"E\":\n",
    "        chosen_drink = drinks[choice]\n",
    "else :\n",
    "        print(\"違う、入力直す\")\n",
    "    \n",
    "    \n",
    "\n",
    "input_money(chosen_drink)"
   ]
  },
  {
   "cell_type": "markdown",
   "metadata": {},
   "source": [
    "**Bonus Question**:\n",
    "\n",
    "Write a program to add another condition of choosing between hot and cold tea or green tea, with different or same price."
   ]
  },
  {
   "cell_type": "code",
   "execution_count": null,
   "metadata": {},
   "outputs": [],
   "source": []
  },
  {
   "cell_type": "markdown",
   "metadata": {},
   "source": [
    "**Question 3**:\n",
    "\n",
    "What else you can add to the vending machine program? How would you like to further improve the program?"
   ]
  },
  {
   "cell_type": "markdown",
   "metadata": {},
   "source": [
    "**Answer**:飲み物は長期買えないなら、値段が安いになる。"
   ]
  }
 ],
 "metadata": {
  "kernelspec": {
   "display_name": "Python 3",
   "language": "python",
   "name": "python3"
  },
  "language_info": {
   "codemirror_mode": {
    "name": "ipython",
    "version": 3
   },
   "file_extension": ".py",
   "mimetype": "text/x-python",
   "name": "python",
   "nbconvert_exporter": "python",
   "pygments_lexer": "ipython3",
   "version": "3.7.3"
  }
 },
 "nbformat": 4,
 "nbformat_minor": 2
}
